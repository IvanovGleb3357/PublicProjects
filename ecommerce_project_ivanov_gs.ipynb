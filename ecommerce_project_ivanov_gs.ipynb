{
 "cells": [
  {
   "cell_type": "markdown",
   "metadata": {},
   "source": [
    "# Проект E-commerce"
   ]
  },
  {
   "cell_type": "code",
   "execution_count": 315,
   "metadata": {},
   "outputs": [],
   "source": [
    "import pandas as pd\n",
    "import seaborn as sns\n",
    "from datetime import timedelta\n",
    "import matplotlib.pyplot as plt"
   ]
  },
  {
   "cell_type": "code",
   "execution_count": 316,
   "metadata": {},
   "outputs": [],
   "source": [
    "customers = pd.read_csv('olist_customers_dataset.csv')\n",
    "order_items = pd.read_csv('olist_order_items_dataset.csv')\n",
    "orders = pd.read_csv('olist_orders_dataset.csv', parse_dates=['order_purchase_timestamp',\n",
    "                                                              'order_approved_at',\n",
    "                                                              'order_delivered_carrier_date',\n",
    "                                                              'order_delivered_customer_date',\n",
    "                                                              'order_estimated_delivery_date'])\n",
    "order_items['shipping_limit_date'] = pd.to_datetime(order_items['shipping_limit_date'])"
   ]
  },
  {
   "cell_type": "code",
   "execution_count": 317,
   "metadata": {},
   "outputs": [
    {
     "data": {
      "text/html": [
       "<div>\n",
       "<style scoped>\n",
       "    .dataframe tbody tr th:only-of-type {\n",
       "        vertical-align: middle;\n",
       "    }\n",
       "\n",
       "    .dataframe tbody tr th {\n",
       "        vertical-align: top;\n",
       "    }\n",
       "\n",
       "    .dataframe thead th {\n",
       "        text-align: right;\n",
       "    }\n",
       "</style>\n",
       "<table border=\"1\" class=\"dataframe\">\n",
       "  <thead>\n",
       "    <tr style=\"text-align: right;\">\n",
       "      <th></th>\n",
       "      <th>customer_id</th>\n",
       "      <th>customer_unique_id</th>\n",
       "      <th>customer_zip_code_prefix</th>\n",
       "      <th>customer_city</th>\n",
       "      <th>customer_state</th>\n",
       "    </tr>\n",
       "  </thead>\n",
       "  <tbody>\n",
       "    <tr>\n",
       "      <th>0</th>\n",
       "      <td>06b8999e2fba1a1fbc88172c00ba8bc7</td>\n",
       "      <td>861eff4711a542e4b93843c6dd7febb0</td>\n",
       "      <td>14409</td>\n",
       "      <td>franca</td>\n",
       "      <td>SP</td>\n",
       "    </tr>\n",
       "    <tr>\n",
       "      <th>1</th>\n",
       "      <td>18955e83d337fd6b2def6b18a428ac77</td>\n",
       "      <td>290c77bc529b7ac935b93aa66c333dc3</td>\n",
       "      <td>9790</td>\n",
       "      <td>sao bernardo do campo</td>\n",
       "      <td>SP</td>\n",
       "    </tr>\n",
       "    <tr>\n",
       "      <th>2</th>\n",
       "      <td>4e7b3e00288586ebd08712fdd0374a03</td>\n",
       "      <td>060e732b5b29e8181a18229c7b0b2b5e</td>\n",
       "      <td>1151</td>\n",
       "      <td>sao paulo</td>\n",
       "      <td>SP</td>\n",
       "    </tr>\n",
       "    <tr>\n",
       "      <th>3</th>\n",
       "      <td>b2b6027bc5c5109e529d4dc6358b12c3</td>\n",
       "      <td>259dac757896d24d7702b9acbbff3f3c</td>\n",
       "      <td>8775</td>\n",
       "      <td>mogi das cruzes</td>\n",
       "      <td>SP</td>\n",
       "    </tr>\n",
       "    <tr>\n",
       "      <th>4</th>\n",
       "      <td>4f2d8ab171c80ec8364f7c12e35b23ad</td>\n",
       "      <td>345ecd01c38d18a9036ed96c73b8d066</td>\n",
       "      <td>13056</td>\n",
       "      <td>campinas</td>\n",
       "      <td>SP</td>\n",
       "    </tr>\n",
       "  </tbody>\n",
       "</table>\n",
       "</div>"
      ],
      "text/plain": [
       "                        customer_id                customer_unique_id  \\\n",
       "0  06b8999e2fba1a1fbc88172c00ba8bc7  861eff4711a542e4b93843c6dd7febb0   \n",
       "1  18955e83d337fd6b2def6b18a428ac77  290c77bc529b7ac935b93aa66c333dc3   \n",
       "2  4e7b3e00288586ebd08712fdd0374a03  060e732b5b29e8181a18229c7b0b2b5e   \n",
       "3  b2b6027bc5c5109e529d4dc6358b12c3  259dac757896d24d7702b9acbbff3f3c   \n",
       "4  4f2d8ab171c80ec8364f7c12e35b23ad  345ecd01c38d18a9036ed96c73b8d066   \n",
       "\n",
       "   customer_zip_code_prefix          customer_city customer_state  \n",
       "0                     14409                 franca             SP  \n",
       "1                      9790  sao bernardo do campo             SP  \n",
       "2                      1151              sao paulo             SP  \n",
       "3                      8775        mogi das cruzes             SP  \n",
       "4                     13056               campinas             SP  "
      ]
     },
     "execution_count": 317,
     "metadata": {},
     "output_type": "execute_result"
    }
   ],
   "source": [
    "customers.head()"
   ]
  },
  {
   "cell_type": "code",
   "execution_count": 318,
   "metadata": {},
   "outputs": [
    {
     "data": {
      "text/plain": [
       "customer_id                 object\n",
       "customer_unique_id          object\n",
       "customer_zip_code_prefix     int64\n",
       "customer_city               object\n",
       "customer_state              object\n",
       "dtype: object"
      ]
     },
     "execution_count": 318,
     "metadata": {},
     "output_type": "execute_result"
    }
   ],
   "source": [
    "customers.dtypes"
   ]
  },
  {
   "cell_type": "code",
   "execution_count": 319,
   "metadata": {},
   "outputs": [
    {
     "data": {
      "text/html": [
       "<div>\n",
       "<style scoped>\n",
       "    .dataframe tbody tr th:only-of-type {\n",
       "        vertical-align: middle;\n",
       "    }\n",
       "\n",
       "    .dataframe tbody tr th {\n",
       "        vertical-align: top;\n",
       "    }\n",
       "\n",
       "    .dataframe thead th {\n",
       "        text-align: right;\n",
       "    }\n",
       "</style>\n",
       "<table border=\"1\" class=\"dataframe\">\n",
       "  <thead>\n",
       "    <tr style=\"text-align: right;\">\n",
       "      <th></th>\n",
       "      <th>order_id</th>\n",
       "      <th>order_item_id</th>\n",
       "      <th>product_id</th>\n",
       "      <th>seller_id</th>\n",
       "      <th>shipping_limit_date</th>\n",
       "      <th>price</th>\n",
       "      <th>freight_value</th>\n",
       "    </tr>\n",
       "  </thead>\n",
       "  <tbody>\n",
       "    <tr>\n",
       "      <th>0</th>\n",
       "      <td>00010242fe8c5a6d1ba2dd792cb16214</td>\n",
       "      <td>1</td>\n",
       "      <td>4244733e06e7ecb4970a6e2683c13e61</td>\n",
       "      <td>48436dade18ac8b2bce089ec2a041202</td>\n",
       "      <td>2017-09-19 09:45:35</td>\n",
       "      <td>58.90</td>\n",
       "      <td>13.29</td>\n",
       "    </tr>\n",
       "    <tr>\n",
       "      <th>1</th>\n",
       "      <td>00018f77f2f0320c557190d7a144bdd3</td>\n",
       "      <td>1</td>\n",
       "      <td>e5f2d52b802189ee658865ca93d83a8f</td>\n",
       "      <td>dd7ddc04e1b6c2c614352b383efe2d36</td>\n",
       "      <td>2017-05-03 11:05:13</td>\n",
       "      <td>239.90</td>\n",
       "      <td>19.93</td>\n",
       "    </tr>\n",
       "    <tr>\n",
       "      <th>2</th>\n",
       "      <td>000229ec398224ef6ca0657da4fc703e</td>\n",
       "      <td>1</td>\n",
       "      <td>c777355d18b72b67abbeef9df44fd0fd</td>\n",
       "      <td>5b51032eddd242adc84c38acab88f23d</td>\n",
       "      <td>2018-01-18 14:48:30</td>\n",
       "      <td>199.00</td>\n",
       "      <td>17.87</td>\n",
       "    </tr>\n",
       "    <tr>\n",
       "      <th>3</th>\n",
       "      <td>00024acbcdf0a6daa1e931b038114c75</td>\n",
       "      <td>1</td>\n",
       "      <td>7634da152a4610f1595efa32f14722fc</td>\n",
       "      <td>9d7a1d34a5052409006425275ba1c2b4</td>\n",
       "      <td>2018-08-15 10:10:18</td>\n",
       "      <td>12.99</td>\n",
       "      <td>12.79</td>\n",
       "    </tr>\n",
       "    <tr>\n",
       "      <th>4</th>\n",
       "      <td>00042b26cf59d7ce69dfabb4e55b4fd9</td>\n",
       "      <td>1</td>\n",
       "      <td>ac6c3623068f30de03045865e4e10089</td>\n",
       "      <td>df560393f3a51e74553ab94004ba5c87</td>\n",
       "      <td>2017-02-13 13:57:51</td>\n",
       "      <td>199.90</td>\n",
       "      <td>18.14</td>\n",
       "    </tr>\n",
       "  </tbody>\n",
       "</table>\n",
       "</div>"
      ],
      "text/plain": [
       "                           order_id  order_item_id  \\\n",
       "0  00010242fe8c5a6d1ba2dd792cb16214              1   \n",
       "1  00018f77f2f0320c557190d7a144bdd3              1   \n",
       "2  000229ec398224ef6ca0657da4fc703e              1   \n",
       "3  00024acbcdf0a6daa1e931b038114c75              1   \n",
       "4  00042b26cf59d7ce69dfabb4e55b4fd9              1   \n",
       "\n",
       "                         product_id                         seller_id  \\\n",
       "0  4244733e06e7ecb4970a6e2683c13e61  48436dade18ac8b2bce089ec2a041202   \n",
       "1  e5f2d52b802189ee658865ca93d83a8f  dd7ddc04e1b6c2c614352b383efe2d36   \n",
       "2  c777355d18b72b67abbeef9df44fd0fd  5b51032eddd242adc84c38acab88f23d   \n",
       "3  7634da152a4610f1595efa32f14722fc  9d7a1d34a5052409006425275ba1c2b4   \n",
       "4  ac6c3623068f30de03045865e4e10089  df560393f3a51e74553ab94004ba5c87   \n",
       "\n",
       "  shipping_limit_date   price  freight_value  \n",
       "0 2017-09-19 09:45:35   58.90          13.29  \n",
       "1 2017-05-03 11:05:13  239.90          19.93  \n",
       "2 2018-01-18 14:48:30  199.00          17.87  \n",
       "3 2018-08-15 10:10:18   12.99          12.79  \n",
       "4 2017-02-13 13:57:51  199.90          18.14  "
      ]
     },
     "execution_count": 319,
     "metadata": {},
     "output_type": "execute_result"
    }
   ],
   "source": [
    "order_items.head()"
   ]
  },
  {
   "cell_type": "code",
   "execution_count": 320,
   "metadata": {},
   "outputs": [
    {
     "data": {
      "text/plain": [
       "order_id                       object\n",
       "order_item_id                   int64\n",
       "product_id                     object\n",
       "seller_id                      object\n",
       "shipping_limit_date    datetime64[ns]\n",
       "price                         float64\n",
       "freight_value                 float64\n",
       "dtype: object"
      ]
     },
     "execution_count": 320,
     "metadata": {},
     "output_type": "execute_result"
    }
   ],
   "source": [
    "order_items.dtypes"
   ]
  },
  {
   "cell_type": "code",
   "execution_count": 321,
   "metadata": {},
   "outputs": [
    {
     "data": {
      "text/html": [
       "<div>\n",
       "<style scoped>\n",
       "    .dataframe tbody tr th:only-of-type {\n",
       "        vertical-align: middle;\n",
       "    }\n",
       "\n",
       "    .dataframe tbody tr th {\n",
       "        vertical-align: top;\n",
       "    }\n",
       "\n",
       "    .dataframe thead th {\n",
       "        text-align: right;\n",
       "    }\n",
       "</style>\n",
       "<table border=\"1\" class=\"dataframe\">\n",
       "  <thead>\n",
       "    <tr style=\"text-align: right;\">\n",
       "      <th></th>\n",
       "      <th>order_id</th>\n",
       "      <th>customer_id</th>\n",
       "      <th>order_status</th>\n",
       "      <th>order_purchase_timestamp</th>\n",
       "      <th>order_approved_at</th>\n",
       "      <th>order_delivered_carrier_date</th>\n",
       "      <th>order_delivered_customer_date</th>\n",
       "      <th>order_estimated_delivery_date</th>\n",
       "    </tr>\n",
       "  </thead>\n",
       "  <tbody>\n",
       "    <tr>\n",
       "      <th>0</th>\n",
       "      <td>e481f51cbdc54678b7cc49136f2d6af7</td>\n",
       "      <td>9ef432eb6251297304e76186b10a928d</td>\n",
       "      <td>delivered</td>\n",
       "      <td>2017-10-02 10:56:33</td>\n",
       "      <td>2017-10-02 11:07:15</td>\n",
       "      <td>2017-10-04 19:55:00</td>\n",
       "      <td>2017-10-10 21:25:13</td>\n",
       "      <td>2017-10-18</td>\n",
       "    </tr>\n",
       "    <tr>\n",
       "      <th>1</th>\n",
       "      <td>53cdb2fc8bc7dce0b6741e2150273451</td>\n",
       "      <td>b0830fb4747a6c6d20dea0b8c802d7ef</td>\n",
       "      <td>delivered</td>\n",
       "      <td>2018-07-24 20:41:37</td>\n",
       "      <td>2018-07-26 03:24:27</td>\n",
       "      <td>2018-07-26 14:31:00</td>\n",
       "      <td>2018-08-07 15:27:45</td>\n",
       "      <td>2018-08-13</td>\n",
       "    </tr>\n",
       "    <tr>\n",
       "      <th>2</th>\n",
       "      <td>47770eb9100c2d0c44946d9cf07ec65d</td>\n",
       "      <td>41ce2a54c0b03bf3443c3d931a367089</td>\n",
       "      <td>delivered</td>\n",
       "      <td>2018-08-08 08:38:49</td>\n",
       "      <td>2018-08-08 08:55:23</td>\n",
       "      <td>2018-08-08 13:50:00</td>\n",
       "      <td>2018-08-17 18:06:29</td>\n",
       "      <td>2018-09-04</td>\n",
       "    </tr>\n",
       "    <tr>\n",
       "      <th>3</th>\n",
       "      <td>949d5b44dbf5de918fe9c16f97b45f8a</td>\n",
       "      <td>f88197465ea7920adcdbec7375364d82</td>\n",
       "      <td>delivered</td>\n",
       "      <td>2017-11-18 19:28:06</td>\n",
       "      <td>2017-11-18 19:45:59</td>\n",
       "      <td>2017-11-22 13:39:59</td>\n",
       "      <td>2017-12-02 00:28:42</td>\n",
       "      <td>2017-12-15</td>\n",
       "    </tr>\n",
       "    <tr>\n",
       "      <th>4</th>\n",
       "      <td>ad21c59c0840e6cb83a9ceb5573f8159</td>\n",
       "      <td>8ab97904e6daea8866dbdbc4fb7aad2c</td>\n",
       "      <td>delivered</td>\n",
       "      <td>2018-02-13 21:18:39</td>\n",
       "      <td>2018-02-13 22:20:29</td>\n",
       "      <td>2018-02-14 19:46:34</td>\n",
       "      <td>2018-02-16 18:17:02</td>\n",
       "      <td>2018-02-26</td>\n",
       "    </tr>\n",
       "  </tbody>\n",
       "</table>\n",
       "</div>"
      ],
      "text/plain": [
       "                           order_id                       customer_id  \\\n",
       "0  e481f51cbdc54678b7cc49136f2d6af7  9ef432eb6251297304e76186b10a928d   \n",
       "1  53cdb2fc8bc7dce0b6741e2150273451  b0830fb4747a6c6d20dea0b8c802d7ef   \n",
       "2  47770eb9100c2d0c44946d9cf07ec65d  41ce2a54c0b03bf3443c3d931a367089   \n",
       "3  949d5b44dbf5de918fe9c16f97b45f8a  f88197465ea7920adcdbec7375364d82   \n",
       "4  ad21c59c0840e6cb83a9ceb5573f8159  8ab97904e6daea8866dbdbc4fb7aad2c   \n",
       "\n",
       "  order_status order_purchase_timestamp   order_approved_at  \\\n",
       "0    delivered      2017-10-02 10:56:33 2017-10-02 11:07:15   \n",
       "1    delivered      2018-07-24 20:41:37 2018-07-26 03:24:27   \n",
       "2    delivered      2018-08-08 08:38:49 2018-08-08 08:55:23   \n",
       "3    delivered      2017-11-18 19:28:06 2017-11-18 19:45:59   \n",
       "4    delivered      2018-02-13 21:18:39 2018-02-13 22:20:29   \n",
       "\n",
       "  order_delivered_carrier_date order_delivered_customer_date  \\\n",
       "0          2017-10-04 19:55:00           2017-10-10 21:25:13   \n",
       "1          2018-07-26 14:31:00           2018-08-07 15:27:45   \n",
       "2          2018-08-08 13:50:00           2018-08-17 18:06:29   \n",
       "3          2017-11-22 13:39:59           2017-12-02 00:28:42   \n",
       "4          2018-02-14 19:46:34           2018-02-16 18:17:02   \n",
       "\n",
       "  order_estimated_delivery_date  \n",
       "0                    2017-10-18  \n",
       "1                    2018-08-13  \n",
       "2                    2018-09-04  \n",
       "3                    2017-12-15  \n",
       "4                    2018-02-26  "
      ]
     },
     "execution_count": 321,
     "metadata": {},
     "output_type": "execute_result"
    }
   ],
   "source": [
    "orders.head()"
   ]
  },
  {
   "cell_type": "code",
   "execution_count": 322,
   "metadata": {},
   "outputs": [
    {
     "data": {
      "text/plain": [
       "order_id                                 object\n",
       "customer_id                              object\n",
       "order_status                             object\n",
       "order_purchase_timestamp         datetime64[ns]\n",
       "order_approved_at                datetime64[ns]\n",
       "order_delivered_carrier_date     datetime64[ns]\n",
       "order_delivered_customer_date    datetime64[ns]\n",
       "order_estimated_delivery_date    datetime64[ns]\n",
       "dtype: object"
      ]
     },
     "execution_count": 322,
     "metadata": {},
     "output_type": "execute_result"
    }
   ],
   "source": [
    "orders.dtypes"
   ]
  },
  {
   "cell_type": "markdown",
   "metadata": {},
   "source": [
    "## Задача 1. Сколько у нас пользователей, которые совершили покупку только один раз?"
   ]
  },
  {
   "cell_type": "markdown",
   "metadata": {},
   "source": [
    "Примем за покупку факт оплаты. **Следовательно**, если у нас есть значение в order_approved_at - то оплата произошла => покупка произошла"
   ]
  },
  {
   "cell_type": "code",
   "execution_count": 323,
   "metadata": {},
   "outputs": [
    {
     "data": {
      "text/plain": [
       "93049"
      ]
     },
     "execution_count": 323,
     "metadata": {},
     "output_type": "execute_result"
    }
   ],
   "source": [
    "customers.merge(orders, how='left', on='customer_id') \\\n",
    "    .groupby('customer_unique_id', as_index=False) \\\n",
    "    .agg({'order_approved_at': 'count'}) \\\n",
    "    .rename(columns={'order_approved_at': 'paid_orders_count'}) \\\n",
    "    .query('paid_orders_count == 1') \\\n",
    "    .count()[0]"
   ]
  },
  {
   "cell_type": "markdown",
   "metadata": {},
   "source": [
    "## Задача 2. Сколько заказов в месяц в среднем не доставляется по разным причинам (вывести детализацию по причинам)?"
   ]
  },
  {
   "cell_type": "markdown",
   "metadata": {},
   "source": [
    "Найдем разницу *diff* между **ожидаемым** временем доставки и **фактическим**. Если эта разница отрицательная, то заказ не был доставлен вовремя, их и будет далее детализировать по причинам."
   ]
  },
  {
   "cell_type": "code",
   "execution_count": 324,
   "metadata": {},
   "outputs": [],
   "source": [
    "orders['diff'] = orders.order_estimated_delivery_date - orders.order_delivered_customer_date"
   ]
  },
  {
   "cell_type": "markdown",
   "metadata": {},
   "source": [
    "Добавим **флаг** *flag*, чтобы разделить отрицательный *diff* от положительного."
   ]
  },
  {
   "cell_type": "code",
   "execution_count": 325,
   "metadata": {},
   "outputs": [],
   "source": [
    "a = timedelta(0)\n",
    "orders['flag'] = orders['diff'].apply(lambda x: x > a)"
   ]
  },
  {
   "cell_type": "markdown",
   "metadata": {},
   "source": [
    "В задании речь идет про месяца, поэтому **извлечем** из дат соответствующие **месяца и года**."
   ]
  },
  {
   "cell_type": "code",
   "execution_count": 326,
   "metadata": {},
   "outputs": [],
   "source": [
    "orders['orders_estimated_delivery_month'] = orders['order_estimated_delivery_date'].dt.month_name()\n",
    "orders['order_delivered_customer_month'] = orders['order_delivered_customer_date'].dt.month_name()\n",
    "orders['order_delivered_customer_year'] = orders['order_delivered_customer_date'].dt.year\n",
    "orders['orders_estimated_delivery_year'] = orders['order_estimated_delivery_date'].dt.year"
   ]
  },
  {
   "cell_type": "markdown",
   "metadata": {},
   "source": [
    "Напишем функцию, определяющую причину недоставки в зависимости от выполнения условий.\n",
    "Исходя из представленных данных у нас есть 3 типа причин недоставки:\n",
    "1) Если **предел даты доставки поставщиком *shipping_limit_date* меньше чем фактическая дата получения поставщиком *order_delivered_carrier_date***, то значит на стороне поставщика возникла проблема. Ее будем классифицировать как **Shipping problems**;\n",
    "2) Если ***order_status* принимает значение *canceled***, то это значит, что заказ не был доставлен из-за его отмены клиентом. Эту причину будем классифицировать как **Order has been canceled**;\n",
    "3) **В иных случаях**, мы не можем наверняка знать причину. Единственное что мы о таких покупках знаем, что фактическое время доставки было больше, чем ожидаемое. Такое будем классифицировать как **Long delivery to customer**\n",
    "\n",
    "**Также**, если *order_status = unavailable* или *shipped*, то мы **не можем узнать** наверняка, будет ли задержка в поставке или нет, поэтому уберем их из общего пула."
   ]
  },
  {
   "cell_type": "code",
   "execution_count": 327,
   "metadata": {},
   "outputs": [],
   "source": [
    "def reason_finder(row):\n",
    "    if row['shipping_limit_date'] < row['order_delivered_carrier_date']:     \n",
    "        return 'Shipping problems'    \n",
    "    # Если условие выполняется, то максимальная дата доставки продавцом для передачи заказа партнеру по логистике была нарушена\n",
    "    \n",
    "    elif row['order_status'] == 'canceled':\n",
    "        return 'Order has been canceled'\n",
    "    # Если условие выполняется, то клиент отменил заказ\n",
    "\n",
    "    elif row['diff'].total_seconds() < 0:\n",
    "        return 'Long delivery to customer'\n",
    "    # Если условие выполняется, то заказ не был доставлен во время, но проблема неизвестна\n",
    "    \n",
    "orders['reason'] = orders.query('flag == False') \\\n",
    "    .merge(order_items, how='left', on='order_id') \\\n",
    "    .query('order_status != \"unavailable\"') \\\n",
    "    .query('order_status != \"shipped\"') \\\n",
    "    .apply(lambda row: reason_finder(row), axis=1)"
   ]
  },
  {
   "cell_type": "code",
   "execution_count": 328,
   "metadata": {},
   "outputs": [
    {
     "data": {
      "text/html": [
       "<div>\n",
       "<style scoped>\n",
       "    .dataframe tbody tr th:only-of-type {\n",
       "        vertical-align: middle;\n",
       "    }\n",
       "\n",
       "    .dataframe tbody tr th {\n",
       "        vertical-align: top;\n",
       "    }\n",
       "\n",
       "    .dataframe thead th {\n",
       "        text-align: right;\n",
       "    }\n",
       "</style>\n",
       "<table border=\"1\" class=\"dataframe\">\n",
       "  <thead>\n",
       "    <tr style=\"text-align: right;\">\n",
       "      <th></th>\n",
       "      <th>reason</th>\n",
       "      <th>percent</th>\n",
       "    </tr>\n",
       "  </thead>\n",
       "  <tbody>\n",
       "    <tr>\n",
       "      <th>0</th>\n",
       "      <td>Long delivery to customer</td>\n",
       "      <td>0.662772</td>\n",
       "    </tr>\n",
       "    <tr>\n",
       "      <th>1</th>\n",
       "      <td>Shipping problems</td>\n",
       "      <td>0.263728</td>\n",
       "    </tr>\n",
       "    <tr>\n",
       "      <th>2</th>\n",
       "      <td>Order has been canceled</td>\n",
       "      <td>0.073500</td>\n",
       "    </tr>\n",
       "  </tbody>\n",
       "</table>\n",
       "</div>"
      ],
      "text/plain": [
       "                      reason   percent\n",
       "0  Long delivery to customer  0.662772\n",
       "1          Shipping problems  0.263728\n",
       "2    Order has been canceled  0.073500"
      ]
     },
     "execution_count": 328,
     "metadata": {},
     "output_type": "execute_result"
    }
   ],
   "source": [
    "reasons = pd.DataFrame(orders.reason \\\n",
    "                       .value_counts(normalize=True)) \\\n",
    "                       .reset_index() \\\n",
    "                       .rename(columns={'index': 'reason', 'reason': 'percent'})\n",
    "reasons"
   ]
  },
  {
   "cell_type": "markdown",
   "metadata": {},
   "source": [
    "### Среднее кол-во недоставленных товаров в срок в месяц:"
   ]
  },
  {
   "cell_type": "code",
   "execution_count": 329,
   "metadata": {
    "scrolled": true
   },
   "outputs": [
    {
     "data": {
      "text/plain": [
       "350.0"
      ]
     },
     "execution_count": 329,
     "metadata": {},
     "output_type": "execute_result"
    }
   ],
   "source": [
    "orders.groupby(['orders_estimated_delivery_year', 'orders_estimated_delivery_month']) \\\n",
    "    .agg({'reason': 'count'}) \\\n",
    "    .reset_index() \\\n",
    "    .reason \\\n",
    "    .median()"
   ]
  },
  {
   "cell_type": "markdown",
   "metadata": {},
   "source": [
    "### Распределение по причинам недоставки товаров в срок в месяц"
   ]
  },
  {
   "cell_type": "code",
   "execution_count": 330,
   "metadata": {},
   "outputs": [
    {
     "data": {
      "text/plain": [
       "<matplotlib.axes._subplots.AxesSubplot at 0x7f76a894c438>"
      ]
     },
     "execution_count": 330,
     "metadata": {},
     "output_type": "execute_result"
    },
    {
     "data": {
      "image/png": "[encoded data removed]",
      "text/plain": [
       "<Figure size 432x288 with 1 Axes>"
      ]
     },
     "metadata": {
      "needs_background": "light"
     },
     "output_type": "display_data"
    }
   ],
   "source": [
    "sns.barplot(data=reasons, x='reason', y='percent')"
   ]
  },
  {
   "cell_type": "markdown",
   "metadata": {},
   "source": [
    "## Задача 3. По каждому товару определить, в какой день недели товар чаще всего покупается?"
   ]
  },
  {
   "cell_type": "markdown",
   "metadata": {},
   "source": [
    "Достанем день недели из даты покупки"
   ]
  },
  {
   "cell_type": "code",
   "execution_count": 331,
   "metadata": {},
   "outputs": [],
   "source": [
    "orders['order_approved_at_weekday'] = orders.order_approved_at.dt.day_name()"
   ]
  },
  {
   "cell_type": "markdown",
   "metadata": {},
   "source": [
    "### Путем несложных операций выделим для каждого *product_id*  наболее популярный день для его покупки."
   ]
  },
  {
   "cell_type": "code",
   "execution_count": 332,
   "metadata": {},
   "outputs": [
    {
     "data": {
      "text/html": [
       "<div>\n",
       "<style scoped>\n",
       "    .dataframe tbody tr th:only-of-type {\n",
       "        vertical-align: middle;\n",
       "    }\n",
       "\n",
       "    .dataframe tbody tr th {\n",
       "        vertical-align: top;\n",
       "    }\n",
       "\n",
       "    .dataframe thead th {\n",
       "        text-align: right;\n",
       "    }\n",
       "</style>\n",
       "<table border=\"1\" class=\"dataframe\">\n",
       "  <thead>\n",
       "    <tr style=\"text-align: right;\">\n",
       "      <th></th>\n",
       "      <th></th>\n",
       "      <th>order_id</th>\n",
       "    </tr>\n",
       "    <tr>\n",
       "      <th>product_id</th>\n",
       "      <th>order_approved_at_weekday</th>\n",
       "      <th></th>\n",
       "    </tr>\n",
       "  </thead>\n",
       "  <tbody>\n",
       "    <tr>\n",
       "      <th>fffe9eeff12fcbd74a2f2b007dde0c58</th>\n",
       "      <th>Wednesday</th>\n",
       "      <td>1</td>\n",
       "    </tr>\n",
       "    <tr>\n",
       "      <th>fffdb2d0ec8d6a61f0a0a0db3f25b441</th>\n",
       "      <th>Tuesday</th>\n",
       "      <td>3</td>\n",
       "    </tr>\n",
       "    <tr>\n",
       "      <th>fff9553ac224cec9d15d49f5a263411f</th>\n",
       "      <th>Saturday</th>\n",
       "      <td>1</td>\n",
       "    </tr>\n",
       "    <tr>\n",
       "      <th>fff81cc3158d2725c0655ab9ba0f712c</th>\n",
       "      <th>Monday</th>\n",
       "      <td>1</td>\n",
       "    </tr>\n",
       "    <tr>\n",
       "      <th>fff6177642830a9a94a0f2cba5e476d1</th>\n",
       "      <th>Saturday</th>\n",
       "      <td>1</td>\n",
       "    </tr>\n",
       "    <tr>\n",
       "      <th>...</th>\n",
       "      <th>...</th>\n",
       "      <td>...</td>\n",
       "    </tr>\n",
       "    <tr>\n",
       "      <th>000d9be29b5207b54e86aa1b1ac54872</th>\n",
       "      <th>Tuesday</th>\n",
       "      <td>1</td>\n",
       "    </tr>\n",
       "    <tr>\n",
       "      <th>000b8f95fcb9e0096488278317764d19</th>\n",
       "      <th>Wednesday</th>\n",
       "      <td>1</td>\n",
       "    </tr>\n",
       "    <tr>\n",
       "      <th>0009406fd7479715e4bef61dd91f2462</th>\n",
       "      <th>Friday</th>\n",
       "      <td>1</td>\n",
       "    </tr>\n",
       "    <tr>\n",
       "      <th>00088930e925c41fd95ebfe695fd2655</th>\n",
       "      <th>Tuesday</th>\n",
       "      <td>1</td>\n",
       "    </tr>\n",
       "    <tr>\n",
       "      <th>00066f42aeeb9f3007548bb9d3f33c38</th>\n",
       "      <th>Sunday</th>\n",
       "      <td>1</td>\n",
       "    </tr>\n",
       "  </tbody>\n",
       "</table>\n",
       "<p>32948 rows × 1 columns</p>\n",
       "</div>"
      ],
      "text/plain": [
       "                                                            order_id\n",
       "product_id                       order_approved_at_weekday          \n",
       "fffe9eeff12fcbd74a2f2b007dde0c58 Wednesday                         1\n",
       "fffdb2d0ec8d6a61f0a0a0db3f25b441 Tuesday                           3\n",
       "fff9553ac224cec9d15d49f5a263411f Saturday                          1\n",
       "fff81cc3158d2725c0655ab9ba0f712c Monday                            1\n",
       "fff6177642830a9a94a0f2cba5e476d1 Saturday                          1\n",
       "...                                                              ...\n",
       "000d9be29b5207b54e86aa1b1ac54872 Tuesday                           1\n",
       "000b8f95fcb9e0096488278317764d19 Wednesday                         1\n",
       "0009406fd7479715e4bef61dd91f2462 Friday                            1\n",
       "00088930e925c41fd95ebfe695fd2655 Tuesday                           1\n",
       "00066f42aeeb9f3007548bb9d3f33c38 Sunday                            1\n",
       "\n",
       "[32948 rows x 1 columns]"
      ]
     },
     "execution_count": 332,
     "metadata": {},
     "output_type": "execute_result"
    }
   ],
   "source": [
    "order_items.merge(orders, how='left', on='order_id') \\\n",
    "    .groupby(['product_id', 'order_approved_at_weekday']) \\\n",
    "    .agg({'order_id': 'count'}) \\\n",
    "    .sort_values(['product_id', 'order_approved_at_weekday', 'order_id'], ascending=False) \\\n",
    "    .groupby(['product_id']).head(1)"
   ]
  },
  {
   "cell_type": "markdown",
   "metadata": {},
   "source": [
    "**Однако**, данный способ не устойчив к случаям, когда в разные дни недели **одинаковое** кол-во покупок."
   ]
  },
  {
   "cell_type": "markdown",
   "metadata": {},
   "source": [
    "## 4. Сколько у каждого из пользователей в среднем покупок в неделю (по месяцам)?  Не стоит забывать, что внутри месяца может быть не целое количество недель. Например, в ноябре 2021 года 4,28 недели. И внутри метрики это нужно учесть."
   ]
  },
  {
   "cell_type": "markdown",
   "metadata": {},
   "source": [
    "Достанем название месяца и год даты покупки."
   ]
  },
  {
   "cell_type": "code",
   "execution_count": 333,
   "metadata": {},
   "outputs": [],
   "source": [
    "orders['order_approved_at_month'] = orders['order_approved_at'].dt.month_name()\n",
    "orders['order_approved_at_year'] = orders['order_approved_at'].dt.year"
   ]
  },
  {
   "cell_type": "markdown",
   "metadata": {},
   "source": [
    "Напишем функцию, находящую кол-во дней в месяце с учетом високосности года"
   ]
  },
  {
   "cell_type": "code",
   "execution_count": 334,
   "metadata": {},
   "outputs": [],
   "source": [
    "def weeks_in_month(df):\n",
    "    normal_year = {\n",
    "        'January': 31,\n",
    "        'February': 28,\n",
    "        'March': 31,\n",
    "        'April': 30,\n",
    "        'May': 31,\n",
    "        'June': 30,\n",
    "        'July': 31,\n",
    "        'August': 31,\n",
    "        'September': 30,\n",
    "        'October': 31,\n",
    "        'November': 30,\n",
    "        'December': 31\n",
    "    }\n",
    "    \n",
    "    leap_year = {\n",
    "        'January': 31,\n",
    "        'February': 29,\n",
    "        'March': 31,\n",
    "        'April': 30,\n",
    "        'May': 31,\n",
    "        'June': 30,\n",
    "        'July': 31,\n",
    "        'August': 31,\n",
    "        'September': 30,\n",
    "        'October': 31,\n",
    "        'November': 30,\n",
    "        'December': 31\n",
    "    }\n",
    "    if df['order_approved_at_year'] % 4 == 0:\n",
    "        return round(leap_year[df['order_approved_at_month']] / 7, 2)\n",
    "    else:\n",
    "        return round(normal_year[df['order_approved_at_month']] / 7, 2)"
   ]
  },
  {
   "cell_type": "code",
   "execution_count": 335,
   "metadata": {},
   "outputs": [],
   "source": [
    "orders_by_customers = orders.merge(customers, how='left', on='customer_id') \\\n",
    "    .groupby(['customer_unique_id', 'order_approved_at_year', 'order_approved_at_month'], as_index=False) \\\n",
    "    .agg({'order_approved_at': 'count'}) \\\n",
    "    .rename(columns={'order_approved_at': 'paid_orders_count'})"
   ]
  },
  {
   "cell_type": "markdown",
   "metadata": {},
   "source": [
    "Получаем кол-во недель в месяце"
   ]
  },
  {
   "cell_type": "code",
   "execution_count": 336,
   "metadata": {},
   "outputs": [],
   "source": [
    "orders_by_customers['weeks_in_month'] = orders_by_customers.apply(lambda x: weeks_in_month(x), axis=1)"
   ]
  },
  {
   "cell_type": "markdown",
   "metadata": {},
   "source": [
    "Посчитаем среднее кол-во заказов в месяц"
   ]
  },
  {
   "cell_type": "code",
   "execution_count": 337,
   "metadata": {},
   "outputs": [],
   "source": [
    "orders_by_customers['avg_paid_orders_in_week_by_month'] = round(orders_by_customers['paid_orders_count']/orders_by_customers['weeks_in_month'], 2)"
   ]
  },
  {
   "cell_type": "markdown",
   "metadata": {},
   "source": [
    "### Получаем среднее кол-во покупок в неделю по месяцам"
   ]
  },
  {
   "cell_type": "code",
   "execution_count": 338,
   "metadata": {},
   "outputs": [
    {
     "data": {
      "text/html": [
       "<div>\n",
       "<style scoped>\n",
       "    .dataframe tbody tr th:only-of-type {\n",
       "        vertical-align: middle;\n",
       "    }\n",
       "\n",
       "    .dataframe tbody tr th {\n",
       "        vertical-align: top;\n",
       "    }\n",
       "\n",
       "    .dataframe thead th {\n",
       "        text-align: right;\n",
       "    }\n",
       "</style>\n",
       "<table border=\"1\" class=\"dataframe\">\n",
       "  <thead>\n",
       "    <tr style=\"text-align: right;\">\n",
       "      <th></th>\n",
       "      <th>customer_unique_id</th>\n",
       "      <th>order_approved_at_year</th>\n",
       "      <th>order_approved_at_month</th>\n",
       "      <th>paid_orders_count</th>\n",
       "      <th>weeks_in_month</th>\n",
       "      <th>avg_paid_orders_in_week_by_month</th>\n",
       "    </tr>\n",
       "  </thead>\n",
       "  <tbody>\n",
       "    <tr>\n",
       "      <th>7316</th>\n",
       "      <td>12f5d6e1cbf93dafd9dcc19095df0b3d</td>\n",
       "      <td>2017.0</td>\n",
       "      <td>January</td>\n",
       "      <td>6</td>\n",
       "      <td>4.43</td>\n",
       "      <td>1.35</td>\n",
       "    </tr>\n",
       "    <tr>\n",
       "      <th>62114</th>\n",
       "      <td>a239b8e2fbce33780f1f1912e2ee5275</td>\n",
       "      <td>2017.0</td>\n",
       "      <td>February</td>\n",
       "      <td>4</td>\n",
       "      <td>4.00</td>\n",
       "      <td>1.00</td>\n",
       "    </tr>\n",
       "    <tr>\n",
       "      <th>23909</th>\n",
       "      <td>3e43e6105506432c953e165fb2acf44c</td>\n",
       "      <td>2018.0</td>\n",
       "      <td>February</td>\n",
       "      <td>4</td>\n",
       "      <td>4.00</td>\n",
       "      <td>1.00</td>\n",
       "    </tr>\n",
       "    <tr>\n",
       "      <th>69301</th>\n",
       "      <td>b4e4f24de1e8725b74e4a1f4975116ed</td>\n",
       "      <td>2018.0</td>\n",
       "      <td>February</td>\n",
       "      <td>4</td>\n",
       "      <td>4.00</td>\n",
       "      <td>1.00</td>\n",
       "    </tr>\n",
       "    <tr>\n",
       "      <th>14471</th>\n",
       "      <td>25a560b9a6006157838aab1bdbd68624</td>\n",
       "      <td>2017.0</td>\n",
       "      <td>April</td>\n",
       "      <td>4</td>\n",
       "      <td>4.29</td>\n",
       "      <td>0.93</td>\n",
       "    </tr>\n",
       "    <tr>\n",
       "      <th>...</th>\n",
       "      <td>...</td>\n",
       "      <td>...</td>\n",
       "      <td>...</td>\n",
       "      <td>...</td>\n",
       "      <td>...</td>\n",
       "      <td>...</td>\n",
       "    </tr>\n",
       "    <tr>\n",
       "      <th>34240</th>\n",
       "      <td>592c4dd3ead25442e70463fb76c466e8</td>\n",
       "      <td>2018.0</td>\n",
       "      <td>January</td>\n",
       "      <td>1</td>\n",
       "      <td>4.43</td>\n",
       "      <td>0.23</td>\n",
       "    </tr>\n",
       "    <tr>\n",
       "      <th>34239</th>\n",
       "      <td>592aba1d8e1d592fc9be07cfa685e88f</td>\n",
       "      <td>2017.0</td>\n",
       "      <td>June</td>\n",
       "      <td>1</td>\n",
       "      <td>4.29</td>\n",
       "      <td>0.23</td>\n",
       "    </tr>\n",
       "    <tr>\n",
       "      <th>34238</th>\n",
       "      <td>59299ea0e75eec7b97507e1dc6ac13d1</td>\n",
       "      <td>2017.0</td>\n",
       "      <td>January</td>\n",
       "      <td>1</td>\n",
       "      <td>4.43</td>\n",
       "      <td>0.23</td>\n",
       "    </tr>\n",
       "    <tr>\n",
       "      <th>34237</th>\n",
       "      <td>59293545b02da9dd4e3e704c7e73f0d6</td>\n",
       "      <td>2017.0</td>\n",
       "      <td>November</td>\n",
       "      <td>1</td>\n",
       "      <td>4.29</td>\n",
       "      <td>0.23</td>\n",
       "    </tr>\n",
       "    <tr>\n",
       "      <th>97911</th>\n",
       "      <td>ffffd2657e2aad2907e67c3e9daecbeb</td>\n",
       "      <td>2017.0</td>\n",
       "      <td>May</td>\n",
       "      <td>1</td>\n",
       "      <td>4.43</td>\n",
       "      <td>0.23</td>\n",
       "    </tr>\n",
       "  </tbody>\n",
       "</table>\n",
       "<p>97912 rows × 6 columns</p>\n",
       "</div>"
      ],
      "text/plain": [
       "                     customer_unique_id  order_approved_at_year  \\\n",
       "7316   12f5d6e1cbf93dafd9dcc19095df0b3d                  2017.0   \n",
       "62114  a239b8e2fbce33780f1f1912e2ee5275                  2017.0   \n",
       "23909  3e43e6105506432c953e165fb2acf44c                  2018.0   \n",
       "69301  b4e4f24de1e8725b74e4a1f4975116ed                  2018.0   \n",
       "14471  25a560b9a6006157838aab1bdbd68624                  2017.0   \n",
       "...                                 ...                     ...   \n",
       "34240  592c4dd3ead25442e70463fb76c466e8                  2018.0   \n",
       "34239  592aba1d8e1d592fc9be07cfa685e88f                  2017.0   \n",
       "34238  59299ea0e75eec7b97507e1dc6ac13d1                  2017.0   \n",
       "34237  59293545b02da9dd4e3e704c7e73f0d6                  2017.0   \n",
       "97911  ffffd2657e2aad2907e67c3e9daecbeb                  2017.0   \n",
       "\n",
       "      order_approved_at_month  paid_orders_count  weeks_in_month  \\\n",
       "7316                  January                  6            4.43   \n",
       "62114                February                  4            4.00   \n",
       "23909                February                  4            4.00   \n",
       "69301                February                  4            4.00   \n",
       "14471                   April                  4            4.29   \n",
       "...                       ...                ...             ...   \n",
       "34240                 January                  1            4.43   \n",
       "34239                    June                  1            4.29   \n",
       "34238                 January                  1            4.43   \n",
       "34237                November                  1            4.29   \n",
       "97911                     May                  1            4.43   \n",
       "\n",
       "       avg_paid_orders_in_week_by_month  \n",
       "7316                               1.35  \n",
       "62114                              1.00  \n",
       "23909                              1.00  \n",
       "69301                              1.00  \n",
       "14471                              0.93  \n",
       "...                                 ...  \n",
       "34240                              0.23  \n",
       "34239                              0.23  \n",
       "34238                              0.23  \n",
       "34237                              0.23  \n",
       "97911                              0.23  \n",
       "\n",
       "[97912 rows x 6 columns]"
      ]
     },
     "execution_count": 338,
     "metadata": {},
     "output_type": "execute_result"
    }
   ],
   "source": [
    "orders_by_customers.sort_values('avg_paid_orders_in_week_by_month', ascending=False)"
   ]
  },
  {
   "cell_type": "markdown",
   "metadata": {},
   "source": [
    "## Задание 5. Используя pandas, проведи когортный анализ пользователей. В период с января по декабрь выяви когорту с самым высоким retention на 3й месяц."
   ]
  },
  {
   "cell_type": "markdown",
   "metadata": {},
   "source": [
    "Для когортного анализа будем использовать месяца. Для этого:\n",
    "1. Найдем **месяц первой покупки** и  **месяц второй покупки**. Затем, взяв **разницу между этими датами**, мы сможем понять, через сколько пользовательей вернулись за повторной покупкой.\n",
    "3. Так, как в задании сказано на 3й месяц, то мы **разделим** кол-во пользователей, которые **вернулись к повторной покупке в течении 3х месяцев (90 дней)** на **всех пользователей, совершивших покупку в этом месяце**."
   ]
  },
  {
   "cell_type": "code",
   "execution_count": 339,
   "metadata": {},
   "outputs": [],
   "source": [
    "df2 = customers.merge(orders, how='left', on='customer_id')"
   ]
  },
  {
   "cell_type": "markdown",
   "metadata": {},
   "source": [
    "### 1. Найдем месяц первой покупки и месяц второй покупки и возьмем разность."
   ]
  },
  {
   "cell_type": "code",
   "execution_count": 340,
   "metadata": {},
   "outputs": [],
   "source": [
    "the_first_and_the_second_paid_orders = df2[df2['order_approved_at'].notna()] \\\n",
    "    .groupby('customer_unique_id') \\\n",
    "    .agg({'order_approved_at': ['min', lambda x: sorted(x)[1] if len(x) >= 2 else sorted(x)[0]]}) \\\n",
    "    .reset_index().rename(columns={'<lambda_0>': 'second_min'}) \\\n",
    "    .assign(diff=lambda x: x['order_approved_at']['second_min'] - x['order_approved_at']['min']) \\\n",
    "    .sort_values('diff', ascending=False)"
   ]
  },
  {
   "cell_type": "code",
   "execution_count": 341,
   "metadata": {},
   "outputs": [],
   "source": [
    "the_first_and_the_second_paid_orders.columns = the_first_and_the_second_paid_orders.columns.map('_'.join).str.strip()\n",
    "the_first_and_the_second_paid_orders = the_first_and_the_second_paid_orders.rename(columns={'diff_': 'diff'})\n",
    "the_first_and_the_second_paid_orders['diff_seconds'] = the_first_and_the_second_paid_orders['diff'].dt.total_seconds()"
   ]
  },
  {
   "cell_type": "code",
   "execution_count": 342,
   "metadata": {},
   "outputs": [
    {
     "data": {
      "text/html": [
       "<div>\n",
       "<style scoped>\n",
       "    .dataframe tbody tr th:only-of-type {\n",
       "        vertical-align: middle;\n",
       "    }\n",
       "\n",
       "    .dataframe tbody tr th {\n",
       "        vertical-align: top;\n",
       "    }\n",
       "\n",
       "    .dataframe thead th {\n",
       "        text-align: right;\n",
       "    }\n",
       "</style>\n",
       "<table border=\"1\" class=\"dataframe\">\n",
       "  <thead>\n",
       "    <tr style=\"text-align: right;\">\n",
       "      <th></th>\n",
       "      <th>customer_unique_id_</th>\n",
       "      <th>order_approved_at_min</th>\n",
       "      <th>order_approved_at_second_min</th>\n",
       "      <th>diff</th>\n",
       "      <th>diff_seconds</th>\n",
       "    </tr>\n",
       "  </thead>\n",
       "  <tbody>\n",
       "    <tr>\n",
       "      <th>76849</th>\n",
       "      <td>ccafc1c3f270410521c3c6f3b249870f</td>\n",
       "      <td>2016-10-07 10:13:16</td>\n",
       "      <td>2018-06-12 23:31:02</td>\n",
       "      <td>613 days 13:17:46</td>\n",
       "      <td>53011066.0</td>\n",
       "    </tr>\n",
       "    <tr>\n",
       "      <th>81451</th>\n",
       "      <td>d8f3c4f441a9b59a29f977df16724f38</td>\n",
       "      <td>2017-01-19 21:10:20</td>\n",
       "      <td>2018-08-25 04:05:18</td>\n",
       "      <td>582 days 06:54:58</td>\n",
       "      <td>50309698.0</td>\n",
       "    </tr>\n",
       "    <tr>\n",
       "      <th>55810</th>\n",
       "      <td>94e5ea5a8c1bf546db2739673060c43f</td>\n",
       "      <td>2016-10-06 15:59:50</td>\n",
       "      <td>2018-05-09 14:14:57</td>\n",
       "      <td>579 days 22:15:07</td>\n",
       "      <td>50105707.0</td>\n",
       "    </tr>\n",
       "    <tr>\n",
       "      <th>50940</th>\n",
       "      <td>87b3f231705783eb2217e25851c0a45d</td>\n",
       "      <td>2016-10-09 13:57:01</td>\n",
       "      <td>2018-05-04 11:51:35</td>\n",
       "      <td>571 days 21:54:34</td>\n",
       "      <td>49413274.0</td>\n",
       "    </tr>\n",
       "    <tr>\n",
       "      <th>29391</th>\n",
       "      <td>4e23e1826902ec9f208e8cc61329b494</td>\n",
       "      <td>2016-10-06 16:03:45</td>\n",
       "      <td>2018-03-14 22:29:49</td>\n",
       "      <td>524 days 06:26:04</td>\n",
       "      <td>45296764.0</td>\n",
       "    </tr>\n",
       "  </tbody>\n",
       "</table>\n",
       "</div>"
      ],
      "text/plain": [
       "                    customer_unique_id_ order_approved_at_min  \\\n",
       "76849  ccafc1c3f270410521c3c6f3b249870f   2016-10-07 10:13:16   \n",
       "81451  d8f3c4f441a9b59a29f977df16724f38   2017-01-19 21:10:20   \n",
       "55810  94e5ea5a8c1bf546db2739673060c43f   2016-10-06 15:59:50   \n",
       "50940  87b3f231705783eb2217e25851c0a45d   2016-10-09 13:57:01   \n",
       "29391  4e23e1826902ec9f208e8cc61329b494   2016-10-06 16:03:45   \n",
       "\n",
       "      order_approved_at_second_min              diff  diff_seconds  \n",
       "76849          2018-06-12 23:31:02 613 days 13:17:46    53011066.0  \n",
       "81451          2018-08-25 04:05:18 582 days 06:54:58    50309698.0  \n",
       "55810          2018-05-09 14:14:57 579 days 22:15:07    50105707.0  \n",
       "50940          2018-05-04 11:51:35 571 days 21:54:34    49413274.0  \n",
       "29391          2018-03-14 22:29:49 524 days 06:26:04    45296764.0  "
      ]
     },
     "execution_count": 342,
     "metadata": {},
     "output_type": "execute_result"
    }
   ],
   "source": [
    "the_first_and_the_second_paid_orders.head()"
   ]
  },
  {
   "cell_type": "markdown",
   "metadata": {},
   "source": [
    "### 2. Теперь найдем общее кол-во покупок в каждом месяце."
   ]
  },
  {
   "cell_type": "code",
   "execution_count": 343,
   "metadata": {},
   "outputs": [],
   "source": [
    "the_first_and_the_second_paid_orders['order_approved_at_min_month'] = the_first_and_the_second_paid_orders['order_approved_at_min'].dt.month_name()"
   ]
  },
  {
   "cell_type": "code",
   "execution_count": 344,
   "metadata": {},
   "outputs": [],
   "source": [
    "total_paid_orders_in_month = the_first_and_the_second_paid_orders \\\n",
    "    .groupby('order_approved_at_min_month', as_index=False) \\\n",
    "    .agg({'diff': 'count'}) \\\n",
    "    .rename(columns={'diff': 'total_paid_orders_in_month'})"
   ]
  },
  {
   "cell_type": "code",
   "execution_count": 345,
   "metadata": {},
   "outputs": [
    {
     "data": {
      "text/html": [
       "<div>\n",
       "<style scoped>\n",
       "    .dataframe tbody tr th:only-of-type {\n",
       "        vertical-align: middle;\n",
       "    }\n",
       "\n",
       "    .dataframe tbody tr th {\n",
       "        vertical-align: top;\n",
       "    }\n",
       "\n",
       "    .dataframe thead th {\n",
       "        text-align: right;\n",
       "    }\n",
       "</style>\n",
       "<table border=\"1\" class=\"dataframe\">\n",
       "  <thead>\n",
       "    <tr style=\"text-align: right;\">\n",
       "      <th></th>\n",
       "      <th>order_approved_at_min_month</th>\n",
       "      <th>total_paid_orders_in_month</th>\n",
       "    </tr>\n",
       "  </thead>\n",
       "  <tbody>\n",
       "    <tr>\n",
       "      <th>0</th>\n",
       "      <td>April</td>\n",
       "      <td>8878</td>\n",
       "    </tr>\n",
       "    <tr>\n",
       "      <th>1</th>\n",
       "      <td>August</td>\n",
       "      <td>10602</td>\n",
       "    </tr>\n",
       "    <tr>\n",
       "      <th>2</th>\n",
       "      <td>December</td>\n",
       "      <td>5639</td>\n",
       "    </tr>\n",
       "    <tr>\n",
       "      <th>3</th>\n",
       "      <td>February</td>\n",
       "      <td>8165</td>\n",
       "    </tr>\n",
       "    <tr>\n",
       "      <th>4</th>\n",
       "      <td>January</td>\n",
       "      <td>7675</td>\n",
       "    </tr>\n",
       "  </tbody>\n",
       "</table>\n",
       "</div>"
      ],
      "text/plain": [
       "  order_approved_at_min_month  total_paid_orders_in_month\n",
       "0                       April                        8878\n",
       "1                      August                       10602\n",
       "2                    December                        5639\n",
       "3                    February                        8165\n",
       "4                     January                        7675"
      ]
     },
     "execution_count": 345,
     "metadata": {},
     "output_type": "execute_result"
    }
   ],
   "source": [
    "total_paid_orders_in_month.head()"
   ]
  },
  {
   "cell_type": "markdown",
   "metadata": {},
   "source": [
    "### 3. Разделим кол-во пользователей, которые совершили повторную покупку спустя 90 дней, после первой на общее число пользователей купивших что-либо в этом месяца"
   ]
  },
  {
   "cell_type": "code",
   "execution_count": 346,
   "metadata": {},
   "outputs": [],
   "source": [
    "retention_rate_by_month = the_first_and_the_second_paid_orders \\\n",
    "    .query('diff_seconds > 0 and diff_seconds < 90*24*60*60') \\\n",
    "    .groupby('order_approved_at_min_month', as_index=False) \\\n",
    "    .agg({'diff': 'count'}) \\\n",
    "    .rename(columns={'diff': 'paid_orders_with_diff_less_than_90_days'}) \\\n",
    "    .merge(total_paid_orders_in_month, how='left', on='order_approved_at_min_month') \\\n",
    "    .assign(retention_on_3rd_month=lambda x: x['paid_orders_with_diff_less_than_90_days'] / x['total_paid_orders_in_month']) \\\n",
    "    .round(3) \\\n",
    "    .sort_values('retention_on_3rd_month', ascending=False)"
   ]
  },
  {
   "cell_type": "code",
   "execution_count": 347,
   "metadata": {},
   "outputs": [
    {
     "data": {
      "text/html": [
       "<div>\n",
       "<style scoped>\n",
       "    .dataframe tbody tr th:only-of-type {\n",
       "        vertical-align: middle;\n",
       "    }\n",
       "\n",
       "    .dataframe tbody tr th {\n",
       "        vertical-align: top;\n",
       "    }\n",
       "\n",
       "    .dataframe thead th {\n",
       "        text-align: right;\n",
       "    }\n",
       "</style>\n",
       "<table border=\"1\" class=\"dataframe\">\n",
       "  <thead>\n",
       "    <tr style=\"text-align: right;\">\n",
       "      <th></th>\n",
       "      <th>order_approved_at_min_month</th>\n",
       "      <th>paid_orders_with_diff_less_than_90_days</th>\n",
       "      <th>total_paid_orders_in_month</th>\n",
       "      <th>retention_on_3rd_month</th>\n",
       "    </tr>\n",
       "  </thead>\n",
       "  <tbody>\n",
       "    <tr>\n",
       "      <th>11</th>\n",
       "      <td>September</td>\n",
       "      <td>121</td>\n",
       "      <td>4149</td>\n",
       "      <td>0.029</td>\n",
       "    </tr>\n",
       "    <tr>\n",
       "      <th>3</th>\n",
       "      <td>February</td>\n",
       "      <td>211</td>\n",
       "      <td>8165</td>\n",
       "      <td>0.026</td>\n",
       "    </tr>\n",
       "    <tr>\n",
       "      <th>4</th>\n",
       "      <td>January</td>\n",
       "      <td>178</td>\n",
       "      <td>7675</td>\n",
       "      <td>0.023</td>\n",
       "    </tr>\n",
       "    <tr>\n",
       "      <th>9</th>\n",
       "      <td>November</td>\n",
       "      <td>163</td>\n",
       "      <td>7163</td>\n",
       "      <td>0.023</td>\n",
       "    </tr>\n",
       "    <tr>\n",
       "      <th>10</th>\n",
       "      <td>October</td>\n",
       "      <td>104</td>\n",
       "      <td>4750</td>\n",
       "      <td>0.022</td>\n",
       "    </tr>\n",
       "    <tr>\n",
       "      <th>7</th>\n",
       "      <td>March</td>\n",
       "      <td>201</td>\n",
       "      <td>9685</td>\n",
       "      <td>0.021</td>\n",
       "    </tr>\n",
       "    <tr>\n",
       "      <th>8</th>\n",
       "      <td>May</td>\n",
       "      <td>209</td>\n",
       "      <td>10402</td>\n",
       "      <td>0.020</td>\n",
       "    </tr>\n",
       "    <tr>\n",
       "      <th>0</th>\n",
       "      <td>April</td>\n",
       "      <td>159</td>\n",
       "      <td>8878</td>\n",
       "      <td>0.018</td>\n",
       "    </tr>\n",
       "    <tr>\n",
       "      <th>2</th>\n",
       "      <td>December</td>\n",
       "      <td>102</td>\n",
       "      <td>5639</td>\n",
       "      <td>0.018</td>\n",
       "    </tr>\n",
       "    <tr>\n",
       "      <th>5</th>\n",
       "      <td>July</td>\n",
       "      <td>178</td>\n",
       "      <td>9805</td>\n",
       "      <td>0.018</td>\n",
       "    </tr>\n",
       "    <tr>\n",
       "      <th>6</th>\n",
       "      <td>June</td>\n",
       "      <td>159</td>\n",
       "      <td>9084</td>\n",
       "      <td>0.018</td>\n",
       "    </tr>\n",
       "    <tr>\n",
       "      <th>1</th>\n",
       "      <td>August</td>\n",
       "      <td>150</td>\n",
       "      <td>10602</td>\n",
       "      <td>0.014</td>\n",
       "    </tr>\n",
       "  </tbody>\n",
       "</table>\n",
       "</div>"
      ],
      "text/plain": [
       "   order_approved_at_min_month  paid_orders_with_diff_less_than_90_days  \\\n",
       "11                   September                                      121   \n",
       "3                     February                                      211   \n",
       "4                      January                                      178   \n",
       "9                     November                                      163   \n",
       "10                     October                                      104   \n",
       "7                        March                                      201   \n",
       "8                          May                                      209   \n",
       "0                        April                                      159   \n",
       "2                     December                                      102   \n",
       "5                         July                                      178   \n",
       "6                         June                                      159   \n",
       "1                       August                                      150   \n",
       "\n",
       "    total_paid_orders_in_month  retention_on_3rd_month  \n",
       "11                        4149                   0.029  \n",
       "3                         8165                   0.026  \n",
       "4                         7675                   0.023  \n",
       "9                         7163                   0.023  \n",
       "10                        4750                   0.022  \n",
       "7                         9685                   0.021  \n",
       "8                        10402                   0.020  \n",
       "0                         8878                   0.018  \n",
       "2                         5639                   0.018  \n",
       "5                         9805                   0.018  \n",
       "6                         9084                   0.018  \n",
       "1                        10602                   0.014  "
      ]
     },
     "execution_count": 347,
     "metadata": {},
     "output_type": "execute_result"
    }
   ],
   "source": [
    "retention_rate_by_month"
   ]
  },
  {
   "cell_type": "markdown",
   "metadata": {},
   "source": [
    "**Таким образом**, пользователи купившие товар с **сентября по январь** исключая декабрь, обладают повышенным retention rate-ом на третий месяц."
   ]
  },
  {
   "cell_type": "markdown",
   "metadata": {},
   "source": [
    "## 6. Используя python, построй RFM-сегментацию пользователей, чтобы качественно оценить свою аудиторию."
   ]
  },
  {
   "cell_type": "markdown",
   "metadata": {},
   "source": [
    "Метрики:\n",
    "**R** - время от последней покупки пользователя до текущей даты;\n",
    "**F** - суммарное количество покупок у пользователя за всё время;\n",
    "**M** - сумма покупок за всё время."
   ]
  },
  {
   "cell_type": "markdown",
   "metadata": {},
   "source": [
    "### 1. Найдем RFM для каждого пользователя"
   ]
  },
  {
   "cell_type": "markdown",
   "metadata": {},
   "source": [
    "Так как в датасете данные до 2018, то предположим, что мы делаем сегментацию за 2018 год. Для этого введем переменную **NOW**, которая равняется датой последней покупки + 1 день"
   ]
  },
  {
   "cell_type": "code",
   "execution_count": 348,
   "metadata": {},
   "outputs": [],
   "source": [
    "NOW = orders['order_approved_at'].max() + timedelta(days=1)"
   ]
  },
  {
   "cell_type": "markdown",
   "metadata": {},
   "source": [
    "Находим сколько дней прошло с момента последней покупки"
   ]
  },
  {
   "cell_type": "code",
   "execution_count": 349,
   "metadata": {},
   "outputs": [],
   "source": [
    "orders['days_since_order'] = orders['order_approved_at'].apply(lambda x: (NOW - x).days)"
   ]
  },
  {
   "cell_type": "markdown",
   "metadata": {},
   "source": [
    "Находим R, F, M. **Важно отметить**, что большинство пользователей купили что-либо 1 - 3 раза. **Следовательно**, при разбивке на квантили, будет получатся так, что разным квантилям соответствует одинаковое кол-во покупок. **Поэтому**, было принято решение в дальнейший анализ брать пользователей, которые совершили более 4х заказов и присвоить значения R, F, M от 1 до 4-х."
   ]
  },
  {
   "cell_type": "code",
   "execution_count": 350,
   "metadata": {},
   "outputs": [],
   "source": [
    "rfm = customers.merge(orders, how='left', on='customer_id') \\\n",
    "    .merge(order_items, how='left', on='order_id') \\\n",
    "    .query('days_since_order < 365') \\\n",
    "    .groupby('customer_unique_id', as_index=False) \\\n",
    "    .agg({'order_approved_at': 'count',\n",
    "          'days_since_order' : 'min',\n",
    "          'price': 'sum'}) \\\n",
    "    .rename(columns={'order_approved_at': 'Frequency',\n",
    "                     'days_since_order': 'Recency',\n",
    "                     'price': 'Monetary'}) \\\n",
    "    .query('Frequency >= 4')"
   ]
  },
  {
   "cell_type": "code",
   "execution_count": 351,
   "metadata": {},
   "outputs": [
    {
     "data": {
      "text/html": [
       "<div>\n",
       "<style scoped>\n",
       "    .dataframe tbody tr th:only-of-type {\n",
       "        vertical-align: middle;\n",
       "    }\n",
       "\n",
       "    .dataframe tbody tr th {\n",
       "        vertical-align: top;\n",
       "    }\n",
       "\n",
       "    .dataframe thead th {\n",
       "        text-align: right;\n",
       "    }\n",
       "</style>\n",
       "<table border=\"1\" class=\"dataframe\">\n",
       "  <thead>\n",
       "    <tr style=\"text-align: right;\">\n",
       "      <th></th>\n",
       "      <th>customer_unique_id</th>\n",
       "      <th>Frequency</th>\n",
       "      <th>Recency</th>\n",
       "      <th>Monetary</th>\n",
       "    </tr>\n",
       "  </thead>\n",
       "  <tbody>\n",
       "    <tr>\n",
       "      <th>17</th>\n",
       "      <td>000fbf0473c10fc1ab6f8d2d286ce20c</td>\n",
       "      <td>4</td>\n",
       "      <td>39.0</td>\n",
       "      <td>285.80</td>\n",
       "    </tr>\n",
       "    <tr>\n",
       "      <th>118</th>\n",
       "      <td>0064a1b5f5cddd047c987b988a90c8c1</td>\n",
       "      <td>4</td>\n",
       "      <td>185.0</td>\n",
       "      <td>215.60</td>\n",
       "    </tr>\n",
       "    <tr>\n",
       "      <th>172</th>\n",
       "      <td>0097fca0db567f5ca79509b7b4fc1c2d</td>\n",
       "      <td>7</td>\n",
       "      <td>138.0</td>\n",
       "      <td>172.14</td>\n",
       "    </tr>\n",
       "    <tr>\n",
       "      <th>196</th>\n",
       "      <td>00ae50eb5e1d2514f694dee1dcbbd5ae</td>\n",
       "      <td>5</td>\n",
       "      <td>116.0</td>\n",
       "      <td>213.50</td>\n",
       "    </tr>\n",
       "    <tr>\n",
       "      <th>484</th>\n",
       "      <td>019ed386aec9ff0f9eab4a590231174e</td>\n",
       "      <td>6</td>\n",
       "      <td>35.0</td>\n",
       "      <td>839.40</td>\n",
       "    </tr>\n",
       "  </tbody>\n",
       "</table>\n",
       "</div>"
      ],
      "text/plain": [
       "                   customer_unique_id  Frequency  Recency  Monetary\n",
       "17   000fbf0473c10fc1ab6f8d2d286ce20c          4     39.0    285.80\n",
       "118  0064a1b5f5cddd047c987b988a90c8c1          4    185.0    215.60\n",
       "172  0097fca0db567f5ca79509b7b4fc1c2d          7    138.0    172.14\n",
       "196  00ae50eb5e1d2514f694dee1dcbbd5ae          5    116.0    213.50\n",
       "484  019ed386aec9ff0f9eab4a590231174e          6     35.0    839.40"
      ]
     },
     "execution_count": 351,
     "metadata": {},
     "output_type": "execute_result"
    }
   ],
   "source": [
    "rfm.head()"
   ]
  },
  {
   "cell_type": "markdown",
   "metadata": {},
   "source": [
    "### 2. Найдем квантили для каждой метрики"
   ]
  },
  {
   "cell_type": "code",
   "execution_count": 352,
   "metadata": {},
   "outputs": [],
   "source": [
    "quantile = customers.merge(orders, how='left', on='customer_id') \\\n",
    "    .merge(order_items, how='left', on='order_id') \\\n",
    "    .query('days_since_order < 365') \\\n",
    "    .groupby('customer_unique_id', as_index=False) \\\n",
    "    .agg({'order_approved_at': 'count',\n",
    "          'days_since_order' : 'min',\n",
    "          'price': 'sum'}) \\\n",
    "    .rename(columns={'order_approved_at': 'Frequency',\n",
    "                     'days_since_order': 'Recency',\n",
    "                     'price': 'Monetary'}) \\\n",
    "    .query('Frequency >= 3') \\\n",
    "    .quantile([.2, .4, .6, .8]).to_dict()"
   ]
  },
  {
   "cell_type": "code",
   "execution_count": 353,
   "metadata": {},
   "outputs": [
    {
     "data": {
      "text/html": [
       "<div>\n",
       "<style scoped>\n",
       "    .dataframe tbody tr th:only-of-type {\n",
       "        vertical-align: middle;\n",
       "    }\n",
       "\n",
       "    .dataframe tbody tr th {\n",
       "        vertical-align: top;\n",
       "    }\n",
       "\n",
       "    .dataframe thead th {\n",
       "        text-align: right;\n",
       "    }\n",
       "</style>\n",
       "<table border=\"1\" class=\"dataframe\">\n",
       "  <thead>\n",
       "    <tr style=\"text-align: right;\">\n",
       "      <th></th>\n",
       "      <th>Frequency</th>\n",
       "      <th>Recency</th>\n",
       "      <th>Monetary</th>\n",
       "    </tr>\n",
       "  </thead>\n",
       "  <tbody>\n",
       "    <tr>\n",
       "      <th>0.25</th>\n",
       "      <td>4.0</td>\n",
       "      <td>92.0</td>\n",
       "      <td>149.2475</td>\n",
       "    </tr>\n",
       "    <tr>\n",
       "      <th>0.50</th>\n",
       "      <td>5.0</td>\n",
       "      <td>166.0</td>\n",
       "      <td>268.8250</td>\n",
       "    </tr>\n",
       "    <tr>\n",
       "      <th>0.75</th>\n",
       "      <td>6.0</td>\n",
       "      <td>265.0</td>\n",
       "      <td>482.1775</td>\n",
       "    </tr>\n",
       "  </tbody>\n",
       "</table>\n",
       "</div>"
      ],
      "text/plain": [
       "      Frequency  Recency  Monetary\n",
       "0.25        4.0     92.0  149.2475\n",
       "0.50        5.0    166.0  268.8250\n",
       "0.75        6.0    265.0  482.1775"
      ]
     },
     "execution_count": 353,
     "metadata": {},
     "output_type": "execute_result"
    }
   ],
   "source": [
    "quantile = customers.merge(orders, how='left', on='customer_id') \\\n",
    "    .merge(order_items, how='left', on='order_id') \\\n",
    "    .query('days_since_order < 365') \\\n",
    "    .groupby('customer_unique_id', as_index=False) \\\n",
    "    .agg({'order_approved_at': 'count',\n",
    "          'days_since_order' : 'min',\n",
    "          'price': 'sum'}) \\\n",
    "    .rename(columns={'order_approved_at': 'Frequency',\n",
    "                     'days_since_order': 'Recency',\n",
    "                     'price': 'Monetary'}) \\\n",
    "    .query('Frequency >= 4') \\\n",
    "    .quantile([.25, .5, .75])\n",
    "\n",
    "quantile"
   ]
  },
  {
   "cell_type": "markdown",
   "metadata": {},
   "source": [
    "**Как итого**, у каждого квантиля свое значение, таким образом сегментация будет более качественная благодаря:\n",
    "- наложению ограничения на Frequency (>=4)\n",
    "- разбивка по 3-м квантилям (0.25, 0.50, 0.75)"
   ]
  },
  {
   "cell_type": "code",
   "execution_count": 354,
   "metadata": {},
   "outputs": [
    {
     "data": {
      "text/plain": [
       "{'Frequency': {0.25: 4.0, 0.5: 5.0, 0.75: 6.0},\n",
       " 'Recency': {0.25: 92.0, 0.5: 166.0, 0.75: 265.0},\n",
       " 'Monetary': {0.25: 149.2475, 0.5: 268.82500000000005, 0.75: 482.1775}}"
      ]
     },
     "execution_count": 354,
     "metadata": {},
     "output_type": "execute_result"
    }
   ],
   "source": [
    "quantile = quantile.to_dict()\n",
    "quantile"
   ]
  },
  {
   "cell_type": "markdown",
   "metadata": {},
   "source": [
    "Напишем функцию, позволяющую перевести численное значение метрики в ранговое"
   ]
  },
  {
   "cell_type": "code",
   "execution_count": 355,
   "metadata": {},
   "outputs": [
    {
     "data": {
      "text/html": [
       "<div>\n",
       "<style scoped>\n",
       "    .dataframe tbody tr th:only-of-type {\n",
       "        vertical-align: middle;\n",
       "    }\n",
       "\n",
       "    .dataframe tbody tr th {\n",
       "        vertical-align: top;\n",
       "    }\n",
       "\n",
       "    .dataframe thead th {\n",
       "        text-align: right;\n",
       "    }\n",
       "</style>\n",
       "<table border=\"1\" class=\"dataframe\">\n",
       "  <thead>\n",
       "    <tr style=\"text-align: right;\">\n",
       "      <th></th>\n",
       "      <th>customer_unique_id</th>\n",
       "      <th>Frequency</th>\n",
       "      <th>Recency</th>\n",
       "      <th>Monetary</th>\n",
       "      <th>F</th>\n",
       "      <th>M</th>\n",
       "      <th>R</th>\n",
       "      <th>RFM Score</th>\n",
       "    </tr>\n",
       "  </thead>\n",
       "  <tbody>\n",
       "    <tr>\n",
       "      <th>17</th>\n",
       "      <td>000fbf0473c10fc1ab6f8d2d286ce20c</td>\n",
       "      <td>4</td>\n",
       "      <td>39.0</td>\n",
       "      <td>285.80</td>\n",
       "      <td>1</td>\n",
       "      <td>3</td>\n",
       "      <td>4</td>\n",
       "      <td>413</td>\n",
       "    </tr>\n",
       "    <tr>\n",
       "      <th>118</th>\n",
       "      <td>0064a1b5f5cddd047c987b988a90c8c1</td>\n",
       "      <td>4</td>\n",
       "      <td>185.0</td>\n",
       "      <td>215.60</td>\n",
       "      <td>1</td>\n",
       "      <td>2</td>\n",
       "      <td>2</td>\n",
       "      <td>212</td>\n",
       "    </tr>\n",
       "    <tr>\n",
       "      <th>172</th>\n",
       "      <td>0097fca0db567f5ca79509b7b4fc1c2d</td>\n",
       "      <td>7</td>\n",
       "      <td>138.0</td>\n",
       "      <td>172.14</td>\n",
       "      <td>4</td>\n",
       "      <td>2</td>\n",
       "      <td>3</td>\n",
       "      <td>342</td>\n",
       "    </tr>\n",
       "    <tr>\n",
       "      <th>196</th>\n",
       "      <td>00ae50eb5e1d2514f694dee1dcbbd5ae</td>\n",
       "      <td>5</td>\n",
       "      <td>116.0</td>\n",
       "      <td>213.50</td>\n",
       "      <td>2</td>\n",
       "      <td>2</td>\n",
       "      <td>3</td>\n",
       "      <td>322</td>\n",
       "    </tr>\n",
       "    <tr>\n",
       "      <th>484</th>\n",
       "      <td>019ed386aec9ff0f9eab4a590231174e</td>\n",
       "      <td>6</td>\n",
       "      <td>35.0</td>\n",
       "      <td>839.40</td>\n",
       "      <td>3</td>\n",
       "      <td>4</td>\n",
       "      <td>4</td>\n",
       "      <td>434</td>\n",
       "    </tr>\n",
       "  </tbody>\n",
       "</table>\n",
       "</div>"
      ],
      "text/plain": [
       "                   customer_unique_id  Frequency  Recency  Monetary  F  M  R  \\\n",
       "17   000fbf0473c10fc1ab6f8d2d286ce20c          4     39.0    285.80  1  3  4   \n",
       "118  0064a1b5f5cddd047c987b988a90c8c1          4    185.0    215.60  1  2  2   \n",
       "172  0097fca0db567f5ca79509b7b4fc1c2d          7    138.0    172.14  4  2  3   \n",
       "196  00ae50eb5e1d2514f694dee1dcbbd5ae          5    116.0    213.50  2  2  3   \n",
       "484  019ed386aec9ff0f9eab4a590231174e          6     35.0    839.40  3  4  4   \n",
       "\n",
       "    RFM Score  \n",
       "17        413  \n",
       "118       212  \n",
       "172       342  \n",
       "196       322  \n",
       "484       434  "
      ]
     },
     "execution_count": 355,
     "metadata": {},
     "output_type": "execute_result"
    }
   ],
   "source": [
    "def fm_to_rank(x, variable):\n",
    "    if x <= quantile[variable][0.25]:\n",
    "        return 1\n",
    "    if x <= quantile[variable][0.50]:\n",
    "        return 2\n",
    "    if x <= quantile[variable][0.75]:\n",
    "        return 3\n",
    "    else:\n",
    "        return 4\n",
    "    \n",
    "def r_to_rank(x):\n",
    "    if x <= quantile['Recency'][0.25]:\n",
    "        return 4\n",
    "    if x <= quantile['Recency'][0.50]:\n",
    "        return 3\n",
    "    if x <= quantile['Recency'][0.75]:\n",
    "        return 2\n",
    "    else:\n",
    "        return 1\n",
    "\n",
    "rfm['F'] = rfm['Frequency'].apply(lambda x: fm_to_rank(x, 'Frequency'))\n",
    "rfm['M'] = rfm['Monetary'].apply(lambda x: fm_to_rank(x, 'Monetary'))\n",
    "rfm['R'] = rfm['Recency'].apply(lambda x: r_to_rank(x))\n",
    "rfm['RFM Score'] = rfm['R'].map(str) + rfm['F'].map(str) + rfm['M'].map(str)\n",
    "rfm.head()"
   ]
  },
  {
   "cell_type": "code",
   "execution_count": 356,
   "metadata": {},
   "outputs": [
    {
     "data": {
      "text/html": [
       "<div>\n",
       "<style scoped>\n",
       "    .dataframe tbody tr th:only-of-type {\n",
       "        vertical-align: middle;\n",
       "    }\n",
       "\n",
       "    .dataframe tbody tr th {\n",
       "        vertical-align: top;\n",
       "    }\n",
       "\n",
       "    .dataframe thead th {\n",
       "        text-align: right;\n",
       "    }\n",
       "</style>\n",
       "<table border=\"1\" class=\"dataframe\">\n",
       "  <thead>\n",
       "    <tr style=\"text-align: right;\">\n",
       "      <th></th>\n",
       "      <th>customer_unique_id</th>\n",
       "      <th>Frequency</th>\n",
       "      <th>Recency</th>\n",
       "      <th>Monetary</th>\n",
       "      <th>F</th>\n",
       "      <th>M</th>\n",
       "      <th>R</th>\n",
       "      <th>RFM Score</th>\n",
       "      <th>Segment</th>\n",
       "    </tr>\n",
       "  </thead>\n",
       "  <tbody>\n",
       "    <tr>\n",
       "      <th>17</th>\n",
       "      <td>000fbf0473c10fc1ab6f8d2d286ce20c</td>\n",
       "      <td>4</td>\n",
       "      <td>39.0</td>\n",
       "      <td>285.80</td>\n",
       "      <td>1</td>\n",
       "      <td>3</td>\n",
       "      <td>4</td>\n",
       "      <td>413</td>\n",
       "      <td>new customers</td>\n",
       "    </tr>\n",
       "    <tr>\n",
       "      <th>118</th>\n",
       "      <td>0064a1b5f5cddd047c987b988a90c8c1</td>\n",
       "      <td>4</td>\n",
       "      <td>185.0</td>\n",
       "      <td>215.60</td>\n",
       "      <td>1</td>\n",
       "      <td>2</td>\n",
       "      <td>2</td>\n",
       "      <td>212</td>\n",
       "      <td>hibernating</td>\n",
       "    </tr>\n",
       "    <tr>\n",
       "      <th>172</th>\n",
       "      <td>0097fca0db567f5ca79509b7b4fc1c2d</td>\n",
       "      <td>7</td>\n",
       "      <td>138.0</td>\n",
       "      <td>172.14</td>\n",
       "      <td>4</td>\n",
       "      <td>2</td>\n",
       "      <td>3</td>\n",
       "      <td>342</td>\n",
       "      <td>champions</td>\n",
       "    </tr>\n",
       "    <tr>\n",
       "      <th>196</th>\n",
       "      <td>00ae50eb5e1d2514f694dee1dcbbd5ae</td>\n",
       "      <td>5</td>\n",
       "      <td>116.0</td>\n",
       "      <td>213.50</td>\n",
       "      <td>2</td>\n",
       "      <td>2</td>\n",
       "      <td>3</td>\n",
       "      <td>322</td>\n",
       "      <td>potential loyalists</td>\n",
       "    </tr>\n",
       "    <tr>\n",
       "      <th>484</th>\n",
       "      <td>019ed386aec9ff0f9eab4a590231174e</td>\n",
       "      <td>6</td>\n",
       "      <td>35.0</td>\n",
       "      <td>839.40</td>\n",
       "      <td>3</td>\n",
       "      <td>4</td>\n",
       "      <td>4</td>\n",
       "      <td>434</td>\n",
       "      <td>champions</td>\n",
       "    </tr>\n",
       "  </tbody>\n",
       "</table>\n",
       "</div>"
      ],
      "text/plain": [
       "                   customer_unique_id  Frequency  Recency  Monetary  F  M  R  \\\n",
       "17   000fbf0473c10fc1ab6f8d2d286ce20c          4     39.0    285.80  1  3  4   \n",
       "118  0064a1b5f5cddd047c987b988a90c8c1          4    185.0    215.60  1  2  2   \n",
       "172  0097fca0db567f5ca79509b7b4fc1c2d          7    138.0    172.14  4  2  3   \n",
       "196  00ae50eb5e1d2514f694dee1dcbbd5ae          5    116.0    213.50  2  2  3   \n",
       "484  019ed386aec9ff0f9eab4a590231174e          6     35.0    839.40  3  4  4   \n",
       "\n",
       "    RFM Score              Segment  \n",
       "17        413        new customers  \n",
       "118       212          hibernating  \n",
       "172       342            champions  \n",
       "196       322  potential loyalists  \n",
       "484       434            champions  "
      ]
     },
     "execution_count": 356,
     "metadata": {},
     "output_type": "execute_result"
    }
   ],
   "source": [
    "segt_map = {\n",
    "    r'[1-2][1-2]': 'hibernating',\n",
    "    r'[1][3]': 'at risk',\n",
    "    r'[1]4': 'can\\'t loose',\n",
    "    r'3[1]': 'about to sleep',\n",
    "    r'33': 'need attention',\n",
    "    r'[2][3-4]': 'loyal customers',\n",
    "    r'41': 'new customers',\n",
    "    r'[3-4][2]': 'potential loyalists',\n",
    "    r'4[3-4]': 'champions',\n",
    "    r'34': 'champions'\n",
    "}\n",
    "\n",
    "rfm['Segment'] = rfm['R'].map(str) + rfm['F'].map(str)\n",
    "rfm['Segment'] = rfm['Segment'].replace(segt_map, regex=True)\n",
    "rfm.head()"
   ]
  },
  {
   "cell_type": "markdown",
   "metadata": {},
   "source": [
    "#### Итоговая карта сегментации по Recency и Frequency"
   ]
  },
  {
   "cell_type": "code",
   "execution_count": 361,
   "metadata": {},
   "outputs": [
    {
     "data": {
      "image/png": "[encoded data removed]",
      "text/plain": [
       "<Figure size 1368x1080 with 1 Axes>"
      ]
     },
     "metadata": {
      "needs_background": "light"
     },
     "output_type": "display_data"
    }
   ],
   "source": [
    "import matplotlib.pyplot as plt\n",
    "rfm_coordinates = {\"Champions\": [2, 4, 0.4, 0.8],\n",
    "                   \"Loyal Customers\": [2, 4, 0.2, 0.4],\n",
    "                   \"Can\\'t loose\": [3, 4, 0, 0.2],\n",
    "                   \"At-Risk\": [2, 3, 0, 0.2],\n",
    "                   \"Hibernating\": [0, 2, 0, 0.4],\n",
    "                   \"About To Sleep\": [0, 1, 0.4, 0.6],\n",
    "                   \"New Customers\": [0, 1, 0.6, 0.8],\n",
    "                   \"Potential Loyalists\": [1, 2, 0.4, 0.8],\n",
    "                   \"Need Attention\": [2, 3, 0.4, 0.6]}\n",
    "\n",
    "fig, ax = plt.subplots(figsize = (19, 15))\n",
    "\n",
    "ax.set_xlim([0, 5])\n",
    "ax.set_ylim([0, 5])\n",
    "\n",
    "plt.rcParams[\"axes.facecolor\"] = \"white\"\n",
    "palette = [\"#282828\", \"#04621B\", \"#971194\", \"#F1480F\",  \"#4C00FF\", \n",
    "           \"#FF007B\", \"#9736FF\", \"#8992F3\", \"#B29800\", \"#80004C\"]\n",
    "\n",
    "for key, color in zip(rfm_coordinates.keys(), palette[:10]):\n",
    "    \n",
    "    coordinates = rfm_coordinates[key]\n",
    "    ymin, ymax, xmin, xmax = coordinates[0], coordinates[1], coordinates[2], coordinates[3]\n",
    "    \n",
    "    ax.axhspan(ymin = ymin, ymax = ymax, xmin = xmin, xmax = xmax, facecolor = color)\n",
    "    \n",
    "    x = 5 * (xmin + xmax) / 2\n",
    "    y = (ymin + ymax) / 2\n",
    "    \n",
    "    plt.text(x = x, y = y, s = key, ha = \"center\", va = \"center\", fontsize = 18, color = \"white\", fontweight = \"bold\")\n",
    "  \n",
    "    \n",
    "    ax.set_xlabel(\"Recency Score\", fontsize = 18, fontweight = \"bold\")\n",
    "    ax.set_ylabel(\"Frequency Score\", fontsize = 18, fontweight = \"bold\")\n",
    "    \n",
    "sns.despine(left = True, bottom = True)\n",
    "plt.show()"
   ]
  },
  {
   "cell_type": "markdown",
   "metadata": {},
   "source": [
    "### 3. Строим графики по итогам  RFM-сегментации"
   ]
  },
  {
   "cell_type": "code",
   "execution_count": 358,
   "metadata": {},
   "outputs": [
    {
     "data": {
      "image/png": "[encoded data removed]",
      "text/plain": [
       "<Figure size 720x288 with 2 Axes>"
      ]
     },
     "metadata": {
      "needs_background": "light"
     },
     "output_type": "display_data"
    },
    {
     "data": {
      "image/png": "[encoded data removed]",
      "text/plain": [
       "<Figure size 720x720 with 25 Axes>"
      ]
     },
     "metadata": {
      "needs_background": "light"
     },
     "output_type": "display_data"
    }
   ],
   "source": [
    "fig, axes = plt.subplots(nrows=1, ncols=2, figsize=(10, 4))\n",
    "\n",
    "for i, p in enumerate(['R', 'F']):\n",
    "    parameters = {'R':'Recency', 'F':'Frequency'}\n",
    "    y = rfm[p].value_counts().sort_index()\n",
    "    x = y.index\n",
    "    ax = axes[i]\n",
    "    bars = ax.bar(x, y, color='silver')\n",
    "    ax.set_frame_on(False)\n",
    "    ax.tick_params(left=False, labelleft=False, bottom=False)\n",
    "    ax.set_title('Distribution of {}'.format(parameters[p]),\n",
    "                fontsize=14)\n",
    "    for bar in bars:\n",
    "        value = bar.get_height()\n",
    "        if value == y.max():\n",
    "            bar.set_color('firebrick')\n",
    "        ax.text(bar.get_x() + bar.get_width() / 2,\n",
    "                value - 5,\n",
    "                '{}\\n({}%)'.format(int(value), int(value * 100 / y.sum())),\n",
    "               ha='center',\n",
    "               va='top',\n",
    "               color='w')\n",
    "\n",
    "plt.show()\n",
    "\n",
    "# plot the distribution of M for RF score\n",
    "fig, axes = plt.subplots(nrows=5, ncols=5,\n",
    "                         sharex=False, sharey=True,\n",
    "                         figsize=(10, 10))\n",
    "\n",
    "r_range = range(1, 6)\n",
    "f_range = range(1, 6)\n",
    "for r in r_range:\n",
    "    for f in f_range:\n",
    "        y = rfm[(rfm['R'] == r) & (rfm['F'] == f)]['M'].value_counts().sort_index()\n",
    "        x = y.index\n",
    "        ax = axes[r - 1, f - 1]\n",
    "        bars = ax.bar(x, y, color='silver')\n",
    "        if r == 5:\n",
    "            if f == 3:\n",
    "                ax.set_xlabel('{}\\nF'.format(f), va='top')\n",
    "            else:\n",
    "                ax.set_xlabel('{}\\n'.format(f), va='top')\n",
    "        if f == 1:\n",
    "            if r == 3:\n",
    "                ax.set_ylabel('R\\n{}'.format(r))\n",
    "            else:\n",
    "                ax.set_ylabel(r)\n",
    "        ax.set_frame_on(False)\n",
    "        ax.tick_params(left=False, labelleft=False, bottom=False)\n",
    "        ax.set_xticks(x)\n",
    "        ax.set_xticklabels(x, fontsize=8)\n",
    "\n",
    "        for bar in bars:\n",
    "            value = bar.get_height()\n",
    "            if value == y.max():\n",
    "                bar.set_color('firebrick')\n",
    "            ax.text(bar.get_x() + bar.get_width() / 2,\n",
    "                    value,\n",
    "                    int(value),\n",
    "                    ha='center',\n",
    "                    va='bottom',\n",
    "                    color='k')\n",
    "fig.suptitle('Distribution of M for each F and R',\n",
    "             fontsize=14)\n",
    "plt.tight_layout()\n",
    "plt.show()\n"
   ]
  },
  {
   "cell_type": "markdown",
   "metadata": {},
   "source": [
    "Исходя из графиков видим,\n",
    "\n",
    "- 1) Число пользоваталей по **Recency** распределено равномерно\n",
    "- 2) Число полльзоваталей по **Frequency** распределено не равномерно, 72% (49% + 22%) покупают очень редко (это даже при учете выбора только тех пользоваталей, которые совершили более 3х покупок).\n",
    "- 3) **Monetary** слабо кореллирует с **Frequency** и не зависит от **Recency**"
   ]
  },
  {
   "cell_type": "code",
   "execution_count": 359,
   "metadata": {},
   "outputs": [
    {
     "data": {
      "image/png": "[encoded data removed]",
      "text/plain": [
       "<Figure size 432x288 with 1 Axes>"
      ]
     },
     "metadata": {
      "needs_background": "light"
     },
     "output_type": "display_data"
    }
   ],
   "source": [
    "# count the number of customers in each segment\n",
    "segments_counts = rfm['Segment'].value_counts().sort_values(ascending=True)\n",
    "\n",
    "fig, ax = plt.subplots()\n",
    "\n",
    "bars = ax.barh(range(len(segments_counts)),\n",
    "              segments_counts,\n",
    "              color='silver')\n",
    "ax.set_frame_on(False)\n",
    "ax.tick_params(left=False,\n",
    "               bottom=False,\n",
    "               labelbottom=False)\n",
    "ax.set_yticks(range(len(segments_counts)))\n",
    "ax.set_yticklabels(segments_counts.index)\n",
    "\n",
    "for i, bar in enumerate(bars):\n",
    "        value = bar.get_width()\n",
    "        if segments_counts.index[i] in ['champions', 'loyal customers']:\n",
    "            bar.set_color('firebrick')\n",
    "        ax.text(value,\n",
    "                bar.get_y() + bar.get_height()/2,\n",
    "                '{:,} ({:}%)'.format(int(value),\n",
    "                                   int(value*100/segments_counts.sum())),\n",
    "                va='center',\n",
    "                ha='left'\n",
    "               )\n",
    "\n",
    "plt.show()"
   ]
  },
  {
   "cell_type": "markdown",
   "metadata": {},
   "source": [
    "На графикее видно:\n",
    "\n",
    "1) 47% пользователей или неактивны **hibernating** или в зоне риска **at risk** стать неактивными. \n",
    "\n",
    "2) Всего 17% процентов, лояльны **loyal** к нашему бренду и часто покупают **champions** наш товар\n",
    "\n",
    "3) Заметно, что есть прирост новых пользователей **new customers**. \n",
    "\n",
    "4) 24% (**can\\`t loose**, **potential loyalists**, **new customers**) пользователям необходимо повышенное внимание, для того чтобы перевести их на уровень выше. При грамотном их развитии они станут новыми лоялными клиентами\n",
    "\n",
    "5) 15% (**need attention**, **about to sleep**) пользователей находятся на грани оттока."
   ]
  }
 ],
 "metadata": {
  "kernelspec": {
   "display_name": "Python 3",
   "language": "python",
   "name": "python3"
  },
  "language_info": {
   "codemirror_mode": {
    "name": "ipython",
    "version": 3
   },
   "file_extension": ".py",
   "mimetype": "text/x-python",
   "name": "python",
   "nbconvert_exporter": "python",
   "pygments_lexer": "ipython3",
   "version": "3.7.3"
  }
 },
 "nbformat": 4,
 "nbformat_minor": 5
}
